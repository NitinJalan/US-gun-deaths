{
 "cells": [
  {
   "cell_type": "markdown",
   "metadata": {
    "collapsed": true
   },
   "source": [
    "### Opening, reading, converting the file into a list of lists and removing the header"
   ]
  },
  {
   "cell_type": "code",
   "execution_count": 18,
   "metadata": {
    "collapsed": false
   },
   "outputs": [
    {
     "data": {
      "text/plain": [
       "[['1',\n",
       "  '2012',\n",
       "  '01',\n",
       "  'Suicide',\n",
       "  '0',\n",
       "  'M',\n",
       "  '34',\n",
       "  'Asian/Pacific Islander',\n",
       "  '100',\n",
       "  'Home',\n",
       "  '4'],\n",
       " ['2', '2012', '01', 'Suicide', '0', 'F', '21', 'White', '100', 'Street', '3'],\n",
       " ['3',\n",
       "  '2012',\n",
       "  '01',\n",
       "  'Suicide',\n",
       "  '0',\n",
       "  'M',\n",
       "  '60',\n",
       "  'White',\n",
       "  '100',\n",
       "  'Other specified',\n",
       "  '4'],\n",
       " ['4', '2012', '02', 'Suicide', '0', 'M', '64', 'White', '100', 'Home', '4'],\n",
       " ['5',\n",
       "  '2012',\n",
       "  '02',\n",
       "  'Suicide',\n",
       "  '0',\n",
       "  'M',\n",
       "  '31',\n",
       "  'White',\n",
       "  '100',\n",
       "  'Other specified',\n",
       "  '2']]"
      ]
     },
     "execution_count": 18,
     "metadata": {},
     "output_type": "execute_result"
    }
   ],
   "source": [
    "import csv\n",
    "f = open(\"guns.csv\", \"r\")\n",
    "data = list(csv.reader(f))\n",
    "#print(data[:5])\n",
    "\n",
    "header = data[0]\n",
    "data = data[1:]\n",
    "header\n",
    "data[:5]"
   ]
  },
  {
   "cell_type": "markdown",
   "metadata": {},
   "source": [
    "### Counting number of deaths by year"
   ]
  },
  {
   "cell_type": "code",
   "execution_count": 19,
   "metadata": {
    "collapsed": false
   },
   "outputs": [
    {
     "name": "stdout",
     "output_type": "stream",
     "text": [
      "['2012', '2012', '2012', '2012', '2012']\n",
      "{'2014': 33599, '2012': 33563, '2013': 33636}\n"
     ]
    }
   ],
   "source": [
    "year = [row[1] for row in data]\n",
    "print(year[:5])\n",
    "year_counts = {}\n",
    "for item in year:\n",
    "    if item not in year_counts:\n",
    "        year_counts[item] = 0\n",
    "    year_counts[item] += 1\n",
    "print(year_counts)"
   ]
  },
  {
   "cell_type": "markdown",
   "metadata": {},
   "source": [
    "### Counting number of death over months of each year"
   ]
  },
  {
   "cell_type": "code",
   "execution_count": 20,
   "metadata": {
    "collapsed": false
   },
   "outputs": [
    {
     "data": {
      "text/plain": [
       "[datetime.datetime(2012, 1, 1, 0, 0),\n",
       " datetime.datetime(2012, 1, 1, 0, 0),\n",
       " datetime.datetime(2012, 1, 1, 0, 0),\n",
       " datetime.datetime(2012, 2, 1, 0, 0),\n",
       " datetime.datetime(2012, 2, 1, 0, 0)]"
      ]
     },
     "execution_count": 20,
     "metadata": {},
     "output_type": "execute_result"
    }
   ],
   "source": [
    "import datetime\n",
    "dates = [datetime.datetime(year = int(row[1]), month = int(row[2]), day =1) for row in data]\n",
    "dates[:5]"
   ]
  },
  {
   "cell_type": "code",
   "execution_count": null,
   "metadata": {
    "collapsed": true
   },
   "outputs": [],
   "source": []
  },
  {
   "cell_type": "code",
   "execution_count": 21,
   "metadata": {
    "collapsed": false
   },
   "outputs": [
    {
     "data": {
      "text/plain": [
       "{datetime.datetime(2012, 1, 1, 0, 0): 2758,\n",
       " datetime.datetime(2012, 2, 1, 0, 0): 2357,\n",
       " datetime.datetime(2012, 3, 1, 0, 0): 2743,\n",
       " datetime.datetime(2012, 4, 1, 0, 0): 2795,\n",
       " datetime.datetime(2012, 5, 1, 0, 0): 2999,\n",
       " datetime.datetime(2012, 6, 1, 0, 0): 2826,\n",
       " datetime.datetime(2012, 7, 1, 0, 0): 3026,\n",
       " datetime.datetime(2012, 8, 1, 0, 0): 2954,\n",
       " datetime.datetime(2012, 9, 1, 0, 0): 2852,\n",
       " datetime.datetime(2012, 10, 1, 0, 0): 2733,\n",
       " datetime.datetime(2012, 11, 1, 0, 0): 2729,\n",
       " datetime.datetime(2012, 12, 1, 0, 0): 2791,\n",
       " datetime.datetime(2013, 1, 1, 0, 0): 2864,\n",
       " datetime.datetime(2013, 2, 1, 0, 0): 2375,\n",
       " datetime.datetime(2013, 3, 1, 0, 0): 2862,\n",
       " datetime.datetime(2013, 4, 1, 0, 0): 2798,\n",
       " datetime.datetime(2013, 5, 1, 0, 0): 2806,\n",
       " datetime.datetime(2013, 6, 1, 0, 0): 2920,\n",
       " datetime.datetime(2013, 7, 1, 0, 0): 3079,\n",
       " datetime.datetime(2013, 8, 1, 0, 0): 2859,\n",
       " datetime.datetime(2013, 9, 1, 0, 0): 2742,\n",
       " datetime.datetime(2013, 10, 1, 0, 0): 2808,\n",
       " datetime.datetime(2013, 11, 1, 0, 0): 2758,\n",
       " datetime.datetime(2013, 12, 1, 0, 0): 2765,\n",
       " datetime.datetime(2014, 1, 1, 0, 0): 2651,\n",
       " datetime.datetime(2014, 2, 1, 0, 0): 2361,\n",
       " datetime.datetime(2014, 3, 1, 0, 0): 2684,\n",
       " datetime.datetime(2014, 4, 1, 0, 0): 2862,\n",
       " datetime.datetime(2014, 5, 1, 0, 0): 2864,\n",
       " datetime.datetime(2014, 6, 1, 0, 0): 2931,\n",
       " datetime.datetime(2014, 7, 1, 0, 0): 2884,\n",
       " datetime.datetime(2014, 8, 1, 0, 0): 2970,\n",
       " datetime.datetime(2014, 9, 1, 0, 0): 2914,\n",
       " datetime.datetime(2014, 10, 1, 0, 0): 2865,\n",
       " datetime.datetime(2014, 11, 1, 0, 0): 2756,\n",
       " datetime.datetime(2014, 12, 1, 0, 0): 2857}"
      ]
     },
     "execution_count": 21,
     "metadata": {},
     "output_type": "execute_result"
    }
   ],
   "source": [
    "\n",
    "date_counts = {}\n",
    "for item in dates:\n",
    "    if item not in date_counts:\n",
    "        date_counts[item] = 0\n",
    "    date_counts[item] += 1\n",
    "date_counts"
   ]
  },
  {
   "cell_type": "markdown",
   "metadata": {},
   "source": [
    "### Counting number of deaths by sex"
   ]
  },
  {
   "cell_type": "code",
   "execution_count": 22,
   "metadata": {
    "collapsed": false
   },
   "outputs": [
    {
     "name": "stdout",
     "output_type": "stream",
     "text": [
      "['M', 'F', 'M', 'M', 'M']\n"
     ]
    },
    {
     "data": {
      "text/plain": [
       "{'F': 14449, 'M': 86349}"
      ]
     },
     "execution_count": 22,
     "metadata": {},
     "output_type": "execute_result"
    }
   ],
   "source": [
    "sex = [row[5] for row in data]\n",
    "print(sex[:5])\n",
    "\n",
    "sex_counts = {}\n",
    "for item in sex:\n",
    "    if item not in sex_counts:\n",
    "        sex_counts[item] = 0\n",
    "    sex_counts[item] += 1\n",
    "sex_counts\n"
   ]
  },
  {
   "cell_type": "markdown",
   "metadata": {},
   "source": [
    "### Counting number of deaths by age"
   ]
  },
  {
   "cell_type": "code",
   "execution_count": 23,
   "metadata": {
    "collapsed": false
   },
   "outputs": [
    {
     "name": "stdout",
     "output_type": "stream",
     "text": [
      "['34', '21', '60', '64', '31']\n"
     ]
    },
    {
     "data": {
      "text/plain": [
       "{'0': 33,\n",
       " '1': 38,\n",
       " '10': 53,\n",
       " '100': 1,\n",
       " '101': 2,\n",
       " '102': 2,\n",
       " '107': 1,\n",
       " '11': 61,\n",
       " '12': 117,\n",
       " '13': 229,\n",
       " '14': 364,\n",
       " '15': 561,\n",
       " '16': 864,\n",
       " '17': 1185,\n",
       " '18': 1753,\n",
       " '19': 2065,\n",
       " '2': 50,\n",
       " '20': 2219,\n",
       " '21': 2504,\n",
       " '22': 2712,\n",
       " '23': 2472,\n",
       " '24': 2437,\n",
       " '25': 2230,\n",
       " '26': 2231,\n",
       " '27': 2070,\n",
       " '28': 1986,\n",
       " '29': 1955,\n",
       " '3': 66,\n",
       " '30': 1869,\n",
       " '31': 1833,\n",
       " '32': 1824,\n",
       " '33': 1700,\n",
       " '34': 1699,\n",
       " '35': 1631,\n",
       " '36': 1512,\n",
       " '37': 1500,\n",
       " '38': 1491,\n",
       " '39': 1389,\n",
       " '4': 54,\n",
       " '40': 1414,\n",
       " '41': 1485,\n",
       " '42': 1492,\n",
       " '43': 1527,\n",
       " '44': 1449,\n",
       " '45': 1372,\n",
       " '46': 1437,\n",
       " '47': 1532,\n",
       " '48': 1621,\n",
       " '49': 1669,\n",
       " '5': 43,\n",
       " '50': 1674,\n",
       " '51': 1755,\n",
       " '52': 1715,\n",
       " '53': 1708,\n",
       " '54': 1684,\n",
       " '55': 1596,\n",
       " '56': 1625,\n",
       " '57': 1472,\n",
       " '58': 1510,\n",
       " '59': 1430,\n",
       " '6': 50,\n",
       " '60': 1361,\n",
       " '61': 1306,\n",
       " '62': 1099,\n",
       " '63': 1041,\n",
       " '64': 1126,\n",
       " '65': 1039,\n",
       " '66': 998,\n",
       " '67': 865,\n",
       " '68': 868,\n",
       " '69': 879,\n",
       " '7': 43,\n",
       " '70': 883,\n",
       " '71': 791,\n",
       " '72': 736,\n",
       " '73': 737,\n",
       " '74': 671,\n",
       " '75': 676,\n",
       " '76': 582,\n",
       " '77': 575,\n",
       " '78': 598,\n",
       " '79': 573,\n",
       " '8': 32,\n",
       " '80': 546,\n",
       " '81': 563,\n",
       " '82': 520,\n",
       " '83': 552,\n",
       " '84': 490,\n",
       " '85': 440,\n",
       " '86': 407,\n",
       " '87': 312,\n",
       " '88': 340,\n",
       " '89': 245,\n",
       " '9': 47,\n",
       " '90': 208,\n",
       " '91': 176,\n",
       " '92': 128,\n",
       " '93': 103,\n",
       " '94': 64,\n",
       " '95': 55,\n",
       " '96': 40,\n",
       " '97': 20,\n",
       " '98': 16,\n",
       " '99': 6,\n",
       " 'NA': 18}"
      ]
     },
     "execution_count": 23,
     "metadata": {},
     "output_type": "execute_result"
    }
   ],
   "source": [
    "age = [row[6] for row in data]\n",
    "print(age[:5])\n",
    "\n",
    "age_counts = {}\n",
    "for item in age:\n",
    "    if item not in age_counts:\n",
    "        age_counts[item] = 0\n",
    "    age_counts[item] += 1\n",
    "age_counts"
   ]
  },
  {
   "cell_type": "markdown",
   "metadata": {},
   "source": [
    "### Counting number of deaths by race"
   ]
  },
  {
   "cell_type": "code",
   "execution_count": 24,
   "metadata": {
    "collapsed": false
   },
   "outputs": [
    {
     "name": "stdout",
     "output_type": "stream",
     "text": [
      "['Asian/Pacific Islander', 'White', 'White', 'White', 'White']\n",
      "{'Black': 23296, 'Native American/Native Alaskan': 917, 'Asian/Pacific Islander': 1326, 'Hispanic': 9022, 'White': 66237}\n"
     ]
    }
   ],
   "source": [
    " \n",
    "race = [row[7] for row in data]\n",
    "print(race[:5])\n",
    "\n",
    "race_counts = {}\n",
    "for item in race:\n",
    "    if item not in race_counts:\n",
    "        race_counts[item] = 0\n",
    "    race_counts[item] += 1\n",
    "print(race_counts)"
   ]
  },
  {
   "cell_type": "markdown",
   "metadata": {},
   "source": [
    "### Findings so far:\n",
    "\n",
    "Gun deaths from 2012 through 2014 have increased slightly. \n",
    "Crime committed by male exceeds female by a factor of 6\n",
    "Highest violence is found among the age groups of 17-30 years old\n",
    "White has the highest number of gun death followed by Black followed by Hispanic.\n",
    "Gun deaths increases during summer months compared to winter months.\n",
    "\n",
    "Proportion of the race among the US population would be helpful to determine how gun deaths affect racially.\n",
    "\n",
    "It would be ueful to analyze based on the intent and its correlation with age, sex and race."
   ]
  },
  {
   "cell_type": "markdown",
   "metadata": {},
   "source": [
    "### Opening, reading, coverting census file into a list and removing the header"
   ]
  },
  {
   "cell_type": "code",
   "execution_count": 25,
   "metadata": {
    "collapsed": false
   },
   "outputs": [
    {
     "name": "stdout",
     "output_type": "stream",
     "text": [
      "[['cen42010', 'April 1, 2010 Census', 'totsex', 'Both Sexes', 'tothisp', 'Total', '0100000US', '', 'United States', '308745538', '197318956', '44618105', '40250635', '3739506', '15159516', '674625', '6984195']]\n"
     ]
    }
   ],
   "source": [
    "import csv\n",
    "f = open(\"census.csv\", \"r\")\n",
    "census = list(csv.reader(f))\n",
    "census = census[1:]\n",
    "print(census[:5])"
   ]
  },
  {
   "cell_type": "markdown",
   "metadata": {},
   "source": [
    "### Rate of gun death per 100000 people in each race"
   ]
  },
  {
   "cell_type": "code",
   "execution_count": null,
   "metadata": {
    "collapsed": true
   },
   "outputs": [],
   "source": [
    "white"
   ]
  }
 ],
 "metadata": {
  "kernelspec": {
   "display_name": "Python 3",
   "language": "python",
   "name": "python3"
  },
  "language_info": {
   "codemirror_mode": {
    "name": "ipython",
    "version": 3
   },
   "file_extension": ".py",
   "mimetype": "text/x-python",
   "name": "python",
   "nbconvert_exporter": "python",
   "pygments_lexer": "ipython3",
   "version": "3.4.3"
  }
 },
 "nbformat": 4,
 "nbformat_minor": 0
}
